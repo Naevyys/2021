{
 "cells": [
  {
   "cell_type": "markdown",
   "metadata": {},
   "source": [
    "## Data from World Happiness Report\n",
    "\n",
    "The World Happiness Report is an annual publication of the United Nations Sustainable Development Solutions Network. It contains articles, and rankings of national happiness based on respondent ratings of their own lives, which the report also correlates with various life factors.\n",
    "\n",
    "In this notebook we will explore the happiness of different countries and the features associated.\n",
    "The datasets that we will use are available in *Data*: **happiness2020.pkl** and **countries_info.csv**.\n",
    "\n",
    "Although the features are self-explanatory, here a summary: \n",
    "\n",
    "**happiness2020.pkl**\n",
    "* country: *Name of the country*\n",
    "* happiness_score: *Happiness score*\n",
    "* social_support: *Social support (mitigation the effects of inequality)*\n",
    "* healthy_life_expectancy: *Healthy Life Expectancy*\n",
    "* freedom_of_choices: *Freedom to make life choices*\n",
    "* generosity: *Generosity (charity, volunteers)*\n",
    "* perception_of_corruption: *Corruption Perception*\n",
    "* world_region: *Area of the world of the country*\n",
    "\n",
    "**countries_info.csv**\n",
    "* country_name: *Name of the country*\n",
    "* area: *Area in sq mi*\n",
    "* population: *Number of people*\n",
    "* literacy: *Literacy percentage*"
   ]
  },
  {
   "cell_type": "code",
   "execution_count": 1,
   "metadata": {},
   "outputs": [
    {
     "name": "stderr",
     "output_type": "stream",
     "text": [
      "'head' is not recognized as an internal or external command,\n",
      "operable program or batch file.\n"
     ]
    }
   ],
   "source": [
    "!head Data/countries_info.csv"
   ]
  },
  {
   "cell_type": "code",
   "execution_count": 2,
   "metadata": {},
   "outputs": [],
   "source": [
    "import pandas as pd\n",
    "%matplotlib inline\n",
    "\n",
    "DATA_FOLDER = 'Data/'\n",
    "\n",
    "HAPPINESS_DATASET = DATA_FOLDER+\"happiness2020.csv\"\n",
    "COUNTRIES_DATASET = DATA_FOLDER+\"countries_info.csv\""
   ]
  },
  {
   "cell_type": "markdown",
   "metadata": {},
   "source": [
    "## Task 1: Load the data\n",
    "\n",
    "Load the 2 datasets in Pandas dataframes (called *happiness* and *countries*), and show the first rows.\n",
    "\n",
    "\n",
    "**Hint**: Use the correct reader and verify the data has the expected format."
   ]
  },
  {
   "cell_type": "code",
   "execution_count": 3,
   "metadata": {},
   "outputs": [
    {
     "data": {
      "text/plain": "         country  happiness_score  social_support  healthy_life_expectancy  \\\n0    Afghanistan           2.5669        0.470367                52.590000   \n1        Albania           4.8827        0.671070                68.708138   \n2        Algeria           5.0051        0.803385                65.905174   \n3      Argentina           5.9747        0.900568                68.803802   \n4        Armenia           4.6768        0.757479                66.750656   \n..           ...              ...             ...                      ...   \n130    Venezuela           5.0532        0.890408                66.505341   \n131      Vietnam           5.3535        0.849987                67.952736   \n132        Yemen           3.5274        0.817981                56.727283   \n133       Zambia           3.7594        0.698824                55.299377   \n134     Zimbabwe           3.2992        0.763093                55.617260   \n\n     freedom_of_choices  generosity  perception_of_corruption  \\\n0              0.396573   -0.096429                  0.933687   \n1              0.781994   -0.042309                  0.896304   \n2              0.466611   -0.121105                  0.735485   \n3              0.831132   -0.194914                  0.842010   \n4              0.712018   -0.138780                  0.773545   \n..                  ...         ...                       ...   \n130            0.623278   -0.169091                  0.837038   \n131            0.939593   -0.094533                  0.796421   \n132            0.599920   -0.157735                  0.800288   \n133            0.806500    0.078037                  0.801290   \n134            0.711458   -0.072064                  0.810237   \n\n                           world_region  \n0                            South Asia  \n1            Central and Eastern Europe  \n2          Middle East and North Africa  \n3           Latin America and Caribbean  \n4    Commonwealth of Independent States  \n..                                  ...  \n130         Latin America and Caribbean  \n131                      Southeast Asia  \n132        Middle East and North Africa  \n133                  Sub-Saharan Africa  \n134                  Sub-Saharan Africa  \n\n[135 rows x 8 columns]",
      "text/html": "<div>\n<style scoped>\n    .dataframe tbody tr th:only-of-type {\n        vertical-align: middle;\n    }\n\n    .dataframe tbody tr th {\n        vertical-align: top;\n    }\n\n    .dataframe thead th {\n        text-align: right;\n    }\n</style>\n<table border=\"1\" class=\"dataframe\">\n  <thead>\n    <tr style=\"text-align: right;\">\n      <th></th>\n      <th>country</th>\n      <th>happiness_score</th>\n      <th>social_support</th>\n      <th>healthy_life_expectancy</th>\n      <th>freedom_of_choices</th>\n      <th>generosity</th>\n      <th>perception_of_corruption</th>\n      <th>world_region</th>\n    </tr>\n  </thead>\n  <tbody>\n    <tr>\n      <th>0</th>\n      <td>Afghanistan</td>\n      <td>2.5669</td>\n      <td>0.470367</td>\n      <td>52.590000</td>\n      <td>0.396573</td>\n      <td>-0.096429</td>\n      <td>0.933687</td>\n      <td>South Asia</td>\n    </tr>\n    <tr>\n      <th>1</th>\n      <td>Albania</td>\n      <td>4.8827</td>\n      <td>0.671070</td>\n      <td>68.708138</td>\n      <td>0.781994</td>\n      <td>-0.042309</td>\n      <td>0.896304</td>\n      <td>Central and Eastern Europe</td>\n    </tr>\n    <tr>\n      <th>2</th>\n      <td>Algeria</td>\n      <td>5.0051</td>\n      <td>0.803385</td>\n      <td>65.905174</td>\n      <td>0.466611</td>\n      <td>-0.121105</td>\n      <td>0.735485</td>\n      <td>Middle East and North Africa</td>\n    </tr>\n    <tr>\n      <th>3</th>\n      <td>Argentina</td>\n      <td>5.9747</td>\n      <td>0.900568</td>\n      <td>68.803802</td>\n      <td>0.831132</td>\n      <td>-0.194914</td>\n      <td>0.842010</td>\n      <td>Latin America and Caribbean</td>\n    </tr>\n    <tr>\n      <th>4</th>\n      <td>Armenia</td>\n      <td>4.6768</td>\n      <td>0.757479</td>\n      <td>66.750656</td>\n      <td>0.712018</td>\n      <td>-0.138780</td>\n      <td>0.773545</td>\n      <td>Commonwealth of Independent States</td>\n    </tr>\n    <tr>\n      <th>...</th>\n      <td>...</td>\n      <td>...</td>\n      <td>...</td>\n      <td>...</td>\n      <td>...</td>\n      <td>...</td>\n      <td>...</td>\n      <td>...</td>\n    </tr>\n    <tr>\n      <th>130</th>\n      <td>Venezuela</td>\n      <td>5.0532</td>\n      <td>0.890408</td>\n      <td>66.505341</td>\n      <td>0.623278</td>\n      <td>-0.169091</td>\n      <td>0.837038</td>\n      <td>Latin America and Caribbean</td>\n    </tr>\n    <tr>\n      <th>131</th>\n      <td>Vietnam</td>\n      <td>5.3535</td>\n      <td>0.849987</td>\n      <td>67.952736</td>\n      <td>0.939593</td>\n      <td>-0.094533</td>\n      <td>0.796421</td>\n      <td>Southeast Asia</td>\n    </tr>\n    <tr>\n      <th>132</th>\n      <td>Yemen</td>\n      <td>3.5274</td>\n      <td>0.817981</td>\n      <td>56.727283</td>\n      <td>0.599920</td>\n      <td>-0.157735</td>\n      <td>0.800288</td>\n      <td>Middle East and North Africa</td>\n    </tr>\n    <tr>\n      <th>133</th>\n      <td>Zambia</td>\n      <td>3.7594</td>\n      <td>0.698824</td>\n      <td>55.299377</td>\n      <td>0.806500</td>\n      <td>0.078037</td>\n      <td>0.801290</td>\n      <td>Sub-Saharan Africa</td>\n    </tr>\n    <tr>\n      <th>134</th>\n      <td>Zimbabwe</td>\n      <td>3.2992</td>\n      <td>0.763093</td>\n      <td>55.617260</td>\n      <td>0.711458</td>\n      <td>-0.072064</td>\n      <td>0.810237</td>\n      <td>Sub-Saharan Africa</td>\n    </tr>\n  </tbody>\n</table>\n<p>135 rows × 8 columns</p>\n</div>"
     },
     "execution_count": 3,
     "metadata": {},
     "output_type": "execute_result"
    }
   ],
   "source": [
    "# Write your code here\n",
    "\n",
    "happiness = pd.read_csv(HAPPINESS_DATASET)\n",
    "countries = pd.read_csv(COUNTRIES_DATASET)\n",
    "\n",
    "happiness"
   ]
  },
  {
   "cell_type": "code",
   "execution_count": 4,
   "outputs": [
    {
     "data": {
      "text/plain": "    country_name     area  population literacy\n0    afghanistan   647500    31056997     36,0\n1        albania    28748     3581655     86,5\n2        algeria  2381740    32930091     70,0\n3      argentina  2766890    39921833     97,1\n4        armenia    29800     2976372     98,6\n..           ...      ...         ...      ...\n130    venezuela   912050    25730435     93,4\n131      vietnam   329560    84402966     90,3\n132        yemen   527970    21456188     50,2\n133       zambia   752614    11502010     80,6\n134     zimbabwe   390580    12236805     90,7\n\n[135 rows x 4 columns]",
      "text/html": "<div>\n<style scoped>\n    .dataframe tbody tr th:only-of-type {\n        vertical-align: middle;\n    }\n\n    .dataframe tbody tr th {\n        vertical-align: top;\n    }\n\n    .dataframe thead th {\n        text-align: right;\n    }\n</style>\n<table border=\"1\" class=\"dataframe\">\n  <thead>\n    <tr style=\"text-align: right;\">\n      <th></th>\n      <th>country_name</th>\n      <th>area</th>\n      <th>population</th>\n      <th>literacy</th>\n    </tr>\n  </thead>\n  <tbody>\n    <tr>\n      <th>0</th>\n      <td>afghanistan</td>\n      <td>647500</td>\n      <td>31056997</td>\n      <td>36,0</td>\n    </tr>\n    <tr>\n      <th>1</th>\n      <td>albania</td>\n      <td>28748</td>\n      <td>3581655</td>\n      <td>86,5</td>\n    </tr>\n    <tr>\n      <th>2</th>\n      <td>algeria</td>\n      <td>2381740</td>\n      <td>32930091</td>\n      <td>70,0</td>\n    </tr>\n    <tr>\n      <th>3</th>\n      <td>argentina</td>\n      <td>2766890</td>\n      <td>39921833</td>\n      <td>97,1</td>\n    </tr>\n    <tr>\n      <th>4</th>\n      <td>armenia</td>\n      <td>29800</td>\n      <td>2976372</td>\n      <td>98,6</td>\n    </tr>\n    <tr>\n      <th>...</th>\n      <td>...</td>\n      <td>...</td>\n      <td>...</td>\n      <td>...</td>\n    </tr>\n    <tr>\n      <th>130</th>\n      <td>venezuela</td>\n      <td>912050</td>\n      <td>25730435</td>\n      <td>93,4</td>\n    </tr>\n    <tr>\n      <th>131</th>\n      <td>vietnam</td>\n      <td>329560</td>\n      <td>84402966</td>\n      <td>90,3</td>\n    </tr>\n    <tr>\n      <th>132</th>\n      <td>yemen</td>\n      <td>527970</td>\n      <td>21456188</td>\n      <td>50,2</td>\n    </tr>\n    <tr>\n      <th>133</th>\n      <td>zambia</td>\n      <td>752614</td>\n      <td>11502010</td>\n      <td>80,6</td>\n    </tr>\n    <tr>\n      <th>134</th>\n      <td>zimbabwe</td>\n      <td>390580</td>\n      <td>12236805</td>\n      <td>90,7</td>\n    </tr>\n  </tbody>\n</table>\n<p>135 rows × 4 columns</p>\n</div>"
     },
     "execution_count": 4,
     "metadata": {},
     "output_type": "execute_result"
    }
   ],
   "source": [
    "countries"
   ],
   "metadata": {
    "collapsed": false,
    "pycharm": {
     "name": "#%%\n"
    }
   }
  },
  {
   "cell_type": "markdown",
   "metadata": {},
   "source": [
    "## Task 2: Let's merge the data\n",
    "\n",
    "Create a dataframe called *country_features* by merging *happiness* and *countries*. A row of this dataframe must describe all the features that we have about a country.\n",
    "\n",
    "**Hint**: Verify to have all the rows in the final dataframe"
   ]
  },
  {
   "cell_type": "code",
   "execution_count": 5,
   "metadata": {},
   "outputs": [
    {
     "data": {
      "text/plain": "         country  happiness_score  social_support  healthy_life_expectancy  \\\n0    afghanistan           2.5669        0.470367                52.590000   \n1        albania           4.8827        0.671070                68.708138   \n2        algeria           5.0051        0.803385                65.905174   \n3      argentina           5.9747        0.900568                68.803802   \n4        armenia           4.6768        0.757479                66.750656   \n..           ...              ...             ...                      ...   \n130    venezuela           5.0532        0.890408                66.505341   \n131      vietnam           5.3535        0.849987                67.952736   \n132        yemen           3.5274        0.817981                56.727283   \n133       zambia           3.7594        0.698824                55.299377   \n134     zimbabwe           3.2992        0.763093                55.617260   \n\n     freedom_of_choices  generosity  perception_of_corruption  \\\n0              0.396573   -0.096429                  0.933687   \n1              0.781994   -0.042309                  0.896304   \n2              0.466611   -0.121105                  0.735485   \n3              0.831132   -0.194914                  0.842010   \n4              0.712018   -0.138780                  0.773545   \n..                  ...         ...                       ...   \n130            0.623278   -0.169091                  0.837038   \n131            0.939593   -0.094533                  0.796421   \n132            0.599920   -0.157735                  0.800288   \n133            0.806500    0.078037                  0.801290   \n134            0.711458   -0.072064                  0.810237   \n\n                           world_region     area  population literacy  \n0                            South Asia   647500    31056997     36,0  \n1            Central and Eastern Europe    28748     3581655     86,5  \n2          Middle East and North Africa  2381740    32930091     70,0  \n3           Latin America and Caribbean  2766890    39921833     97,1  \n4    Commonwealth of Independent States    29800     2976372     98,6  \n..                                  ...      ...         ...      ...  \n130         Latin America and Caribbean   912050    25730435     93,4  \n131                      Southeast Asia   329560    84402966     90,3  \n132        Middle East and North Africa   527970    21456188     50,2  \n133                  Sub-Saharan Africa   752614    11502010     80,6  \n134                  Sub-Saharan Africa   390580    12236805     90,7  \n\n[135 rows x 11 columns]",
      "text/html": "<div>\n<style scoped>\n    .dataframe tbody tr th:only-of-type {\n        vertical-align: middle;\n    }\n\n    .dataframe tbody tr th {\n        vertical-align: top;\n    }\n\n    .dataframe thead th {\n        text-align: right;\n    }\n</style>\n<table border=\"1\" class=\"dataframe\">\n  <thead>\n    <tr style=\"text-align: right;\">\n      <th></th>\n      <th>country</th>\n      <th>happiness_score</th>\n      <th>social_support</th>\n      <th>healthy_life_expectancy</th>\n      <th>freedom_of_choices</th>\n      <th>generosity</th>\n      <th>perception_of_corruption</th>\n      <th>world_region</th>\n      <th>area</th>\n      <th>population</th>\n      <th>literacy</th>\n    </tr>\n  </thead>\n  <tbody>\n    <tr>\n      <th>0</th>\n      <td>afghanistan</td>\n      <td>2.5669</td>\n      <td>0.470367</td>\n      <td>52.590000</td>\n      <td>0.396573</td>\n      <td>-0.096429</td>\n      <td>0.933687</td>\n      <td>South Asia</td>\n      <td>647500</td>\n      <td>31056997</td>\n      <td>36,0</td>\n    </tr>\n    <tr>\n      <th>1</th>\n      <td>albania</td>\n      <td>4.8827</td>\n      <td>0.671070</td>\n      <td>68.708138</td>\n      <td>0.781994</td>\n      <td>-0.042309</td>\n      <td>0.896304</td>\n      <td>Central and Eastern Europe</td>\n      <td>28748</td>\n      <td>3581655</td>\n      <td>86,5</td>\n    </tr>\n    <tr>\n      <th>2</th>\n      <td>algeria</td>\n      <td>5.0051</td>\n      <td>0.803385</td>\n      <td>65.905174</td>\n      <td>0.466611</td>\n      <td>-0.121105</td>\n      <td>0.735485</td>\n      <td>Middle East and North Africa</td>\n      <td>2381740</td>\n      <td>32930091</td>\n      <td>70,0</td>\n    </tr>\n    <tr>\n      <th>3</th>\n      <td>argentina</td>\n      <td>5.9747</td>\n      <td>0.900568</td>\n      <td>68.803802</td>\n      <td>0.831132</td>\n      <td>-0.194914</td>\n      <td>0.842010</td>\n      <td>Latin America and Caribbean</td>\n      <td>2766890</td>\n      <td>39921833</td>\n      <td>97,1</td>\n    </tr>\n    <tr>\n      <th>4</th>\n      <td>armenia</td>\n      <td>4.6768</td>\n      <td>0.757479</td>\n      <td>66.750656</td>\n      <td>0.712018</td>\n      <td>-0.138780</td>\n      <td>0.773545</td>\n      <td>Commonwealth of Independent States</td>\n      <td>29800</td>\n      <td>2976372</td>\n      <td>98,6</td>\n    </tr>\n    <tr>\n      <th>...</th>\n      <td>...</td>\n      <td>...</td>\n      <td>...</td>\n      <td>...</td>\n      <td>...</td>\n      <td>...</td>\n      <td>...</td>\n      <td>...</td>\n      <td>...</td>\n      <td>...</td>\n      <td>...</td>\n    </tr>\n    <tr>\n      <th>130</th>\n      <td>venezuela</td>\n      <td>5.0532</td>\n      <td>0.890408</td>\n      <td>66.505341</td>\n      <td>0.623278</td>\n      <td>-0.169091</td>\n      <td>0.837038</td>\n      <td>Latin America and Caribbean</td>\n      <td>912050</td>\n      <td>25730435</td>\n      <td>93,4</td>\n    </tr>\n    <tr>\n      <th>131</th>\n      <td>vietnam</td>\n      <td>5.3535</td>\n      <td>0.849987</td>\n      <td>67.952736</td>\n      <td>0.939593</td>\n      <td>-0.094533</td>\n      <td>0.796421</td>\n      <td>Southeast Asia</td>\n      <td>329560</td>\n      <td>84402966</td>\n      <td>90,3</td>\n    </tr>\n    <tr>\n      <th>132</th>\n      <td>yemen</td>\n      <td>3.5274</td>\n      <td>0.817981</td>\n      <td>56.727283</td>\n      <td>0.599920</td>\n      <td>-0.157735</td>\n      <td>0.800288</td>\n      <td>Middle East and North Africa</td>\n      <td>527970</td>\n      <td>21456188</td>\n      <td>50,2</td>\n    </tr>\n    <tr>\n      <th>133</th>\n      <td>zambia</td>\n      <td>3.7594</td>\n      <td>0.698824</td>\n      <td>55.299377</td>\n      <td>0.806500</td>\n      <td>0.078037</td>\n      <td>0.801290</td>\n      <td>Sub-Saharan Africa</td>\n      <td>752614</td>\n      <td>11502010</td>\n      <td>80,6</td>\n    </tr>\n    <tr>\n      <th>134</th>\n      <td>zimbabwe</td>\n      <td>3.2992</td>\n      <td>0.763093</td>\n      <td>55.617260</td>\n      <td>0.711458</td>\n      <td>-0.072064</td>\n      <td>0.810237</td>\n      <td>Sub-Saharan Africa</td>\n      <td>390580</td>\n      <td>12236805</td>\n      <td>90,7</td>\n    </tr>\n  </tbody>\n</table>\n<p>135 rows × 11 columns</p>\n</div>"
     },
     "execution_count": 5,
     "metadata": {},
     "output_type": "execute_result"
    }
   ],
   "source": [
    "# Write your code here\n",
    "\n",
    "happiness[\"country\"] = happiness[\"country\"].str.lower()\n",
    "\n",
    "country_features = happiness.merge(countries, left_on=[\"country\"], right_on=[\"country_name\"]).drop(columns=[\"country_name\"])\n",
    "\n",
    "country_features"
   ]
  },
  {
   "cell_type": "markdown",
   "metadata": {},
   "source": [
    "## Task 3: Where do people are happier?\n",
    "\n",
    "Print the top 10 countries based on their happiness score (high is better)."
   ]
  },
  {
   "cell_type": "code",
   "execution_count": 6,
   "metadata": {},
   "outputs": [
    {
     "data": {
      "text/plain": "38         finland\n31         denmark\n115    switzerland\n50         iceland\n92          norway\n87     netherlands\n114         sweden\n88     new zealand\n6          austria\n72      luxembourg\nName: country, dtype: object"
     },
     "execution_count": 6,
     "metadata": {},
     "output_type": "execute_result"
    }
   ],
   "source": [
    "# Write your code here\n",
    "happiness.sort_values([\"happiness_score\"], ascending=False)[\"country\"].head(10)"
   ]
  },
  {
   "cell_type": "markdown",
   "metadata": {},
   "source": [
    "We are interested to know in what world region the people are happier. \n",
    "\n",
    "Create and print a dataframe with the (1) average happiness score and (2) the number of contries for each world region.\n",
    "Sort the result to show the happiness ranking."
   ]
  },
  {
   "cell_type": "code",
   "execution_count": 7,
   "metadata": {},
   "outputs": [
    {
     "data": {
      "text/plain": "                                    happiness_score  social_support  \\\nworld_region                                                          \nCentral and Eastern Europe                 5.891393        0.883027   \nCommonwealth of Independent States         5.358342        0.856729   \nEast Asia                                  5.483633        0.873150   \nLatin America and Caribbean                5.971280        0.853971   \nMiddle East and North Africa               5.269306        0.794934   \nNorth America and ANZ                      7.173525        0.933842   \nSouth Asia                                 4.355083        0.674968   \nSoutheast Asia                             5.517788        0.829054   \nSub-Saharan Africa                         4.393856        0.694164   \nWestern Europe                             6.967405        0.917773   \n\n                                    healthy_life_expectancy  \\\nworld_region                                                  \nCentral and Eastern Europe                        68.452411   \nCommonwealth of Independent States                64.726558   \nEast Asia                                         68.864882   \nLatin America and Caribbean                       66.878195   \nMiddle East and North Africa                      65.505087   \nNorth America and ANZ                             72.177067   \nSouth Asia                                        61.090106   \nSoutheast Asia                                    65.429071   \nSub-Saharan Africa                                55.641572   \nWestern Europe                                    72.821632   \n\n                                    freedom_of_choices  generosity  \\\nworld_region                                                         \nCentral and Eastern Europe                    0.780868   -0.139980   \nCommonwealth of Independent States            0.784004   -0.041285   \nEast Asia                                     0.800610   -0.110081   \nLatin America and Caribbean                   0.829322   -0.075523   \nMiddle East and North Africa                  0.714194   -0.079573   \nNorth America and ANZ                         0.907045    0.164180   \nSouth Asia                                    0.758113    0.034609   \nSoutheast Asia                                0.914866    0.112021   \nSub-Saharan Africa                            0.728991   -0.002495   \nWestern Europe                                0.857978    0.040858   \n\n                                    perception_of_corruption  \nworld_region                                                  \nCentral and Eastern Europe                          0.844670  \nCommonwealth of Independent States                  0.746387  \nEast Asia                                           0.757347  \nLatin America and Caribbean                         0.795991  \nMiddle East and North Africa                        0.757591  \nNorth America and ANZ                               0.431717  \nSouth Asia                                          0.785063  \nSoutheast Asia                                      0.712395  \nSub-Saharan Africa                                  0.765513  \nWestern Europe                                      0.523861  ",
      "text/html": "<div>\n<style scoped>\n    .dataframe tbody tr th:only-of-type {\n        vertical-align: middle;\n    }\n\n    .dataframe tbody tr th {\n        vertical-align: top;\n    }\n\n    .dataframe thead th {\n        text-align: right;\n    }\n</style>\n<table border=\"1\" class=\"dataframe\">\n  <thead>\n    <tr style=\"text-align: right;\">\n      <th></th>\n      <th>happiness_score</th>\n      <th>social_support</th>\n      <th>healthy_life_expectancy</th>\n      <th>freedom_of_choices</th>\n      <th>generosity</th>\n      <th>perception_of_corruption</th>\n    </tr>\n    <tr>\n      <th>world_region</th>\n      <th></th>\n      <th></th>\n      <th></th>\n      <th></th>\n      <th></th>\n      <th></th>\n    </tr>\n  </thead>\n  <tbody>\n    <tr>\n      <th>Central and Eastern Europe</th>\n      <td>5.891393</td>\n      <td>0.883027</td>\n      <td>68.452411</td>\n      <td>0.780868</td>\n      <td>-0.139980</td>\n      <td>0.844670</td>\n    </tr>\n    <tr>\n      <th>Commonwealth of Independent States</th>\n      <td>5.358342</td>\n      <td>0.856729</td>\n      <td>64.726558</td>\n      <td>0.784004</td>\n      <td>-0.041285</td>\n      <td>0.746387</td>\n    </tr>\n    <tr>\n      <th>East Asia</th>\n      <td>5.483633</td>\n      <td>0.873150</td>\n      <td>68.864882</td>\n      <td>0.800610</td>\n      <td>-0.110081</td>\n      <td>0.757347</td>\n    </tr>\n    <tr>\n      <th>Latin America and Caribbean</th>\n      <td>5.971280</td>\n      <td>0.853971</td>\n      <td>66.878195</td>\n      <td>0.829322</td>\n      <td>-0.075523</td>\n      <td>0.795991</td>\n    </tr>\n    <tr>\n      <th>Middle East and North Africa</th>\n      <td>5.269306</td>\n      <td>0.794934</td>\n      <td>65.505087</td>\n      <td>0.714194</td>\n      <td>-0.079573</td>\n      <td>0.757591</td>\n    </tr>\n    <tr>\n      <th>North America and ANZ</th>\n      <td>7.173525</td>\n      <td>0.933842</td>\n      <td>72.177067</td>\n      <td>0.907045</td>\n      <td>0.164180</td>\n      <td>0.431717</td>\n    </tr>\n    <tr>\n      <th>South Asia</th>\n      <td>4.355083</td>\n      <td>0.674968</td>\n      <td>61.090106</td>\n      <td>0.758113</td>\n      <td>0.034609</td>\n      <td>0.785063</td>\n    </tr>\n    <tr>\n      <th>Southeast Asia</th>\n      <td>5.517788</td>\n      <td>0.829054</td>\n      <td>65.429071</td>\n      <td>0.914866</td>\n      <td>0.112021</td>\n      <td>0.712395</td>\n    </tr>\n    <tr>\n      <th>Sub-Saharan Africa</th>\n      <td>4.393856</td>\n      <td>0.694164</td>\n      <td>55.641572</td>\n      <td>0.728991</td>\n      <td>-0.002495</td>\n      <td>0.765513</td>\n    </tr>\n    <tr>\n      <th>Western Europe</th>\n      <td>6.967405</td>\n      <td>0.917773</td>\n      <td>72.821632</td>\n      <td>0.857978</td>\n      <td>0.040858</td>\n      <td>0.523861</td>\n    </tr>\n  </tbody>\n</table>\n</div>"
     },
     "execution_count": 7,
     "metadata": {},
     "output_type": "execute_result"
    }
   ],
   "source": [
    "# Write your code here\n",
    "\n",
    "happiness.groupby([\"world_region\"]).mean().head(10)"
   ]
  },
  {
   "cell_type": "markdown",
   "metadata": {},
   "source": [
    "The first region has only a few countries! What are them and what is their score?"
   ]
  },
  {
   "cell_type": "code",
   "execution_count": 8,
   "metadata": {},
   "outputs": [
    {
     "data": {
      "text/plain": "         country  happiness_score\n0    afghanistan           2.5669\n9     bangladesh           4.8328\n51         india           3.5733\n86         nepal           5.1372\n93      pakistan           5.6933\n112    sri lanka           4.3270",
      "text/html": "<div>\n<style scoped>\n    .dataframe tbody tr th:only-of-type {\n        vertical-align: middle;\n    }\n\n    .dataframe tbody tr th {\n        vertical-align: top;\n    }\n\n    .dataframe thead th {\n        text-align: right;\n    }\n</style>\n<table border=\"1\" class=\"dataframe\">\n  <thead>\n    <tr style=\"text-align: right;\">\n      <th></th>\n      <th>country</th>\n      <th>happiness_score</th>\n    </tr>\n  </thead>\n  <tbody>\n    <tr>\n      <th>0</th>\n      <td>afghanistan</td>\n      <td>2.5669</td>\n    </tr>\n    <tr>\n      <th>9</th>\n      <td>bangladesh</td>\n      <td>4.8328</td>\n    </tr>\n    <tr>\n      <th>51</th>\n      <td>india</td>\n      <td>3.5733</td>\n    </tr>\n    <tr>\n      <th>86</th>\n      <td>nepal</td>\n      <td>5.1372</td>\n    </tr>\n    <tr>\n      <th>93</th>\n      <td>pakistan</td>\n      <td>5.6933</td>\n    </tr>\n    <tr>\n      <th>112</th>\n      <td>sri lanka</td>\n      <td>4.3270</td>\n    </tr>\n  </tbody>\n</table>\n</div>"
     },
     "execution_count": 8,
     "metadata": {},
     "output_type": "execute_result"
    }
   ],
   "source": [
    "# Write your code here\n",
    "\n",
    "happiness[happiness[\"world_region\"] == happiness.loc[0][\"world_region\"]][[\"country\", \"happiness_score\"]].head(10)"
   ]
  },
  {
   "cell_type": "markdown",
   "metadata": {},
   "source": [
    "## Task 4: How literate is the world?\n",
    "\n",
    "Print the name of countries with a level of literacy of 100%. \n",
    "\n",
    "For each country, print the name and the world region with the format: *{region name} - {country name} ({happiness score})*"
   ]
  },
  {
   "cell_type": "code",
   "execution_count": 9,
   "metadata": {},
   "outputs": [
    {
     "name": "stdout",
     "output_type": "stream",
     "text": [
      "North America and ANZ - australia (7.222799778)\n",
      "Western Europe - denmark (7.645599842)\n",
      "Western Europe - finland (7.808700085)\n",
      "Western Europe - luxembourg (7.237500191)\n",
      "Western Europe - norway (7.487999916000001)\n"
     ]
    }
   ],
   "source": [
    "# Write your code here\n",
    "\n",
    "country_features[\"literacy\"] = pd.to_numeric(country_features[\"literacy\"].apply(lambda x: x.replace(',','.') if type(x) == str else x))\n",
    "\n",
    "literate_countries = country_features[country_features[\"literacy\"] == 100][[\"world_region\", \"country\", \"happiness_score\"]]\n",
    "for _, row in literate_countries.iterrows():\n",
    "    print(\"{0[world_region]} - {0[country]} ({0[happiness_score]})\".format(row))"
   ]
  },
  {
   "cell_type": "markdown",
   "metadata": {},
   "source": [
    "What is the global average?"
   ]
  },
  {
   "cell_type": "code",
   "execution_count": 10,
   "metadata": {},
   "outputs": [
    {
     "data": {
      "text/plain": "81.85112781954888"
     },
     "execution_count": 10,
     "metadata": {},
     "output_type": "execute_result"
    }
   ],
   "source": [
    "# Write your code here\n",
    "\n",
    "country_features[\"literacy\"].mean()"
   ]
  },
  {
   "cell_type": "markdown",
   "metadata": {},
   "source": [
    "Calculate the proportion of countries with a literacy level below 50%. Print the value in percentage, formatted with 2 decimals."
   ]
  },
  {
   "cell_type": "code",
   "execution_count": 11,
   "metadata": {},
   "outputs": [
    {
     "name": "stdout",
     "output_type": "stream",
     "text": [
      "11.85 %\n"
     ]
    }
   ],
   "source": [
    "# Write your code here\n",
    "\n",
    "low_literacy_countries = country_features[country_features[\"literacy\"] < 50]\n",
    "percentage = len(low_literacy_countries) / len(country_features)\n",
    "print(\"{} %\".format(round(percentage, 4)*100))"
   ]
  },
  {
   "cell_type": "markdown",
   "metadata": {},
   "source": [
    "Print the raw number and the percentage of world population that is illiterate."
   ]
  },
  {
   "cell_type": "code",
   "execution_count": 12,
   "metadata": {},
   "outputs": [
    {
     "name": "stdout",
     "output_type": "stream",
     "text": [
      "Total world population: 6145475101\n",
      "Illiterate world population: 4888612110.896999\n",
      "Percentage of illiterate population in the world: 79.54815584724308 %\n"
     ]
    }
   ],
   "source": [
    "# Write your code here\n",
    "\n",
    "world_population = country_features[\"population\"].sum()\n",
    "illiterate_world_population = (country_features[\"literacy\"] * country_features[\"population\"] / 100).sum()\n",
    "\n",
    "print(\"Total world population:\",world_population)\n",
    "print(\"Illiterate world population:\", illiterate_world_population)\n",
    "print(\"Percentage of illiterate population in the world:\", (illiterate_world_population / world_population) * 100, \"%\")\n",
    "# That result seems kinda huge, there may be issues with the data values (or my code) but idk how to check them\n",
    "# The total world population number suggests that we are missing some big countries or that the data is a bit old"
   ]
  },
  {
   "cell_type": "markdown",
   "metadata": {},
   "source": [
    "## Task 5: Population density\n",
    "\n",
    "Add to the dataframe a new field called *population_density* computed by dividing *population* by *area*."
   ]
  },
  {
   "cell_type": "code",
   "execution_count": 13,
   "metadata": {},
   "outputs": [
    {
     "data": {
      "text/plain": "0     47.964474\n1    124.587971\n2     13.826065\n3     14.428413\n4     99.878255\nName: population_density, dtype: float64"
     },
     "execution_count": 13,
     "metadata": {},
     "output_type": "execute_result"
    }
   ],
   "source": [
    "# Write your code here\n",
    "\n",
    "country_features[\"population_density\"] = country_features[\"population\"] / country_features[\"area\"]\n",
    "country_features[\"population_density\"].head()"
   ]
  },
  {
   "cell_type": "markdown",
   "metadata": {},
   "source": [
    "What is the happiness score of the 3 countries with lowest population density?"
   ]
  },
  {
   "cell_type": "code",
   "execution_count": 14,
   "metadata": {},
   "outputs": [
    {
     "data": {
      "text/plain": "      country  population_density  happiness_score\n83   mongolia            1.810751           5.4562\n5   australia            2.636201           7.2228\n14   botswana            2.731371           3.4789",
      "text/html": "<div>\n<style scoped>\n    .dataframe tbody tr th:only-of-type {\n        vertical-align: middle;\n    }\n\n    .dataframe tbody tr th {\n        vertical-align: top;\n    }\n\n    .dataframe thead th {\n        text-align: right;\n    }\n</style>\n<table border=\"1\" class=\"dataframe\">\n  <thead>\n    <tr style=\"text-align: right;\">\n      <th></th>\n      <th>country</th>\n      <th>population_density</th>\n      <th>happiness_score</th>\n    </tr>\n  </thead>\n  <tbody>\n    <tr>\n      <th>83</th>\n      <td>mongolia</td>\n      <td>1.810751</td>\n      <td>5.4562</td>\n    </tr>\n    <tr>\n      <th>5</th>\n      <td>australia</td>\n      <td>2.636201</td>\n      <td>7.2228</td>\n    </tr>\n    <tr>\n      <th>14</th>\n      <td>botswana</td>\n      <td>2.731371</td>\n      <td>3.4789</td>\n    </tr>\n  </tbody>\n</table>\n</div>"
     },
     "execution_count": 14,
     "metadata": {},
     "output_type": "execute_result"
    }
   ],
   "source": [
    "# Write your code here\n",
    "\n",
    "country_features.sort_values([\"population_density\"], ascending=True)[[\"country\", \"population_density\", \"happiness_score\"]].head(3)"
   ]
  },
  {
   "cell_type": "markdown",
   "metadata": {},
   "source": [
    "## Task 6: Healty and happy?\n",
    "\n",
    "Plot in scatter plot the happiness score (x) and healty like expectancy (y)."
   ]
  },
  {
   "cell_type": "code",
   "execution_count": 15,
   "metadata": {},
   "outputs": [
    {
     "data": {
      "text/plain": "<Figure size 432x288 with 1 Axes>",
      "image/png": "[encoded data removed]"
     },
     "metadata": {
      "needs_background": "light"
     },
     "output_type": "display_data"
    }
   ],
   "source": [
    "# Write your code here\n",
    "\n",
    "import matplotlib.pyplot as plt\n",
    "\n",
    "sorted_data = country_features.sort_values([\"happiness_score\"], ascending=True)\n",
    "plt.plot(sorted_data[\"happiness_score\"], sorted_data[\"healthy_life_expectancy\"], \"o\")\n",
    "plt.xlabel(\"Happiness score\")\n",
    "plt.ylabel(\"Healthy life expectancy\")\n",
    "plt.show()"
   ]
  },
  {
   "cell_type": "markdown",
   "metadata": {},
   "source": [
    "Feel free to continue the exploration of the dataset! We'll release the solutions next week.\n",
    "\n",
    "----\n",
    "Enjoy EPFL and be happy, next year Switzerland must be #1."
   ]
  }
 ],
 "metadata": {
  "kernelspec": {
   "display_name": "Python 3",
   "language": "python",
   "name": "python3"
  },
  "language_info": {
   "codemirror_mode": {
    "name": "ipython",
    "version": 3
   },
   "file_extension": ".py",
   "mimetype": "text/x-python",
   "name": "python",
   "nbconvert_exporter": "python",
   "pygments_lexer": "ipython3",
   "version": "3.7.7"
  }
 },
 "nbformat": 4,
 "nbformat_minor": 4
}