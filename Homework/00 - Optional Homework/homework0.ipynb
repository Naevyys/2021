{
 "cells": [
  {
   "cell_type": "markdown",
   "metadata": {
    "collapsed": true,
    "pycharm": {
     "name": "#%% md\n"
    }
   },
   "source": [
    "# Homework 0"
   ]
  },
  {
   "cell_type": "code",
   "execution_count": 1,
   "outputs": [],
   "source": [
    "import pandas as pd\n",
    "import numpy as np"
   ],
   "metadata": {
    "collapsed": false,
    "pycharm": {
     "name": "#%%\n"
    }
   }
  },
  {
   "cell_type": "code",
   "execution_count": 2,
   "outputs": [
    {
     "data": {
      "text/plain": "   Unnamed: 0         Intent         Gender            Age  \\\n0           1  None selected  None selected  None selected   \n1           2  None selected  None selected  None selected   \n2           3  None selected  None selected  None selected   \n3           4  None selected  None selected  None selected   \n4           5  None selected  None selected  None selected   \n\n                     Race  Deaths  Population  Rate  \n0           None selected   33599   316299978  10.6  \n1                   White   22079   197369634  11.2  \n2                   Black    7765    38896382  20.0  \n3                Hispanic    3007    54049078   5.6  \n4  Asian/Pacific Islander     442    16315561   2.7  ",
      "text/html": "<div>\n<style scoped>\n    .dataframe tbody tr th:only-of-type {\n        vertical-align: middle;\n    }\n\n    .dataframe tbody tr th {\n        vertical-align: top;\n    }\n\n    .dataframe thead th {\n        text-align: right;\n    }\n</style>\n<table border=\"1\" class=\"dataframe\">\n  <thead>\n    <tr style=\"text-align: right;\">\n      <th></th>\n      <th>Unnamed: 0</th>\n      <th>Intent</th>\n      <th>Gender</th>\n      <th>Age</th>\n      <th>Race</th>\n      <th>Deaths</th>\n      <th>Population</th>\n      <th>Rate</th>\n    </tr>\n  </thead>\n  <tbody>\n    <tr>\n      <th>0</th>\n      <td>1</td>\n      <td>None selected</td>\n      <td>None selected</td>\n      <td>None selected</td>\n      <td>None selected</td>\n      <td>33599</td>\n      <td>316299978</td>\n      <td>10.6</td>\n    </tr>\n    <tr>\n      <th>1</th>\n      <td>2</td>\n      <td>None selected</td>\n      <td>None selected</td>\n      <td>None selected</td>\n      <td>White</td>\n      <td>22079</td>\n      <td>197369634</td>\n      <td>11.2</td>\n    </tr>\n    <tr>\n      <th>2</th>\n      <td>3</td>\n      <td>None selected</td>\n      <td>None selected</td>\n      <td>None selected</td>\n      <td>Black</td>\n      <td>7765</td>\n      <td>38896382</td>\n      <td>20.0</td>\n    </tr>\n    <tr>\n      <th>3</th>\n      <td>4</td>\n      <td>None selected</td>\n      <td>None selected</td>\n      <td>None selected</td>\n      <td>Hispanic</td>\n      <td>3007</td>\n      <td>54049078</td>\n      <td>5.6</td>\n    </tr>\n    <tr>\n      <th>4</th>\n      <td>5</td>\n      <td>None selected</td>\n      <td>None selected</td>\n      <td>None selected</td>\n      <td>Asian/Pacific Islander</td>\n      <td>442</td>\n      <td>16315561</td>\n      <td>2.7</td>\n    </tr>\n  </tbody>\n</table>\n</div>"
     },
     "execution_count": 2,
     "metadata": {},
     "output_type": "execute_result"
    }
   ],
   "source": [
    "gun_data = pd.read_csv(\"guns-data/interactive_data.csv\")\n",
    "\n",
    "gun_data.head()"
   ],
   "metadata": {
    "collapsed": false,
    "pycharm": {
     "name": "#%%\n"
    }
   }
  },
  {
   "cell_type": "markdown",
   "source": [
    "## Point 1"
   ],
   "metadata": {
    "collapsed": false,
    "pycharm": {
     "name": "#%% md\n"
    }
   }
  },
  {
   "cell_type": "code",
   "execution_count": 3,
   "outputs": [
    {
     "name": "stdout",
     "output_type": "stream",
     "text": [
      "All gun deaths: 33599\n",
      "Suicides: 21058\n",
      "Deaths that are suicides: 62.67 %\n"
     ]
    }
   ],
   "source": [
    "all_gun_deaths = gun_data[(gun_data[\"Intent\"] == \"None selected\") & (gun_data[\"Gender\"] == \"None selected\") & (gun_data[\"Age\"] == \"None selected\") & (gun_data[\"Race\"] == \"None selected\")][\"Deaths\"].loc[0]\n",
    "suicides = np.sum(gun_data[(gun_data[\"Intent\"] == \"Suicide\") & (gun_data[\"Gender\"] == \"None selected\") & (gun_data[\"Age\"] == \"None selected\") & (gun_data[\"Race\"] == \"None selected\")][\"Deaths\"])\n",
    "\n",
    "print(\"All gun deaths:\", all_gun_deaths)\n",
    "print(\"Suicides:\", suicides)\n",
    "print(\"Deaths that are suicides:\", np.round(suicides / all_gun_deaths, 4)*100, \"%\")"
   ],
   "metadata": {
    "collapsed": false,
    "pycharm": {
     "name": "#%%\n"
    }
   }
  },
  {
   "cell_type": "markdown",
   "source": [
    "## Point 2"
   ],
   "metadata": {
    "collapsed": false,
    "pycharm": {
     "name": "#%% md\n"
    }
   }
  },
  {
   "cell_type": "code",
   "execution_count": 4,
   "outputs": [
    {
     "name": "stdout",
     "output_type": "stream",
     "text": [
      "Male suicide victims: 86.25 %\n"
     ]
    }
   ],
   "source": [
    "male_suicides = np.sum(gun_data[(gun_data[\"Intent\"] == \"Suicide\") & (gun_data[\"Gender\"] == \"Male\") & (gun_data[\"Age\"] == \"None selected\") & (gun_data[\"Race\"] == \"None selected\")][\"Deaths\"])\n",
    "print(\"Male suicide victims:\", np.round(male_suicides / suicides, 4)*100, \"%\")"
   ],
   "metadata": {
    "collapsed": false,
    "pycharm": {
     "name": "#%%\n"
    }
   }
  },
  {
   "cell_type": "markdown",
   "source": [
    "## Point 3"
   ],
   "metadata": {
    "collapsed": false,
    "pycharm": {
     "name": "#%% md\n"
    }
   }
  },
  {
   "cell_type": "code",
   "execution_count": 5,
   "outputs": [
    {
     "name": "stdout",
     "output_type": "stream",
     "text": [
      "Deaths that are homicides: 34.9 %\n"
     ]
    }
   ],
   "source": [
    "homicides = np.sum(gun_data[(gun_data[\"Intent\"] == \"Homicide\") & (gun_data[\"Gender\"] == \"None selected\") & (gun_data[\"Age\"] == \"None selected\") & (gun_data[\"Race\"] == \"None selected\")][\"Deaths\"])\n",
    "\n",
    "print(\"Deaths that are homicides:\", np.round(homicides / all_gun_deaths, 4)*100, \"%\")"
   ],
   "metadata": {
    "collapsed": false,
    "pycharm": {
     "name": "#%%\n"
    }
   }
  },
  {
   "cell_type": "markdown",
   "source": [
    "## Point 4"
   ],
   "metadata": {
    "collapsed": false,
    "pycharm": {
     "name": "#%% md\n"
    }
   }
  },
  {
   "cell_type": "code",
   "execution_count": 6,
   "outputs": [
    {
     "name": "stdout",
     "output_type": "stream",
     "text": [
      "Blacks among male homicide victims between 15 and 34: 66.13 %\n"
     ]
    }
   ],
   "source": [
    "homicides_males_1534 = np.sum(gun_data[(gun_data[\"Intent\"] == \"Homicide\") & (gun_data[\"Gender\"] == \"Male\") & (gun_data[\"Age\"] == \"15 - 34\") & (gun_data[\"Race\"] == \"None selected\")][\"Deaths\"])\n",
    "homicides_males_1534_black = np.sum(gun_data[(gun_data[\"Intent\"] == \"Homicide\") & (gun_data[\"Gender\"] == \"Male\") & (gun_data[\"Age\"] == \"15 - 34\") & (gun_data[\"Race\"] == \"Black\")][\"Deaths\"])\n",
    "\n",
    "print(\"Blacks among male homicide victims between 15 and 34:\", np.round(homicides_males_1534_black / homicides_males_1534, 4)*100, \"%\")"
   ],
   "metadata": {
    "collapsed": false,
    "pycharm": {
     "name": "#%%\n"
    }
   }
  },
  {
   "cell_type": "markdown",
   "source": [
    "## Point 5"
   ],
   "metadata": {
    "collapsed": false
   }
  },
  {
   "cell_type": "code",
   "execution_count": 7,
   "outputs": [
    {
     "name": "stdout",
     "output_type": "stream",
     "text": [
      "Women among homicide victims: 15.27 %\n"
     ]
    }
   ],
   "source": [
    "homicides_females = np.sum(gun_data[(gun_data[\"Intent\"] == \"Homicide\") & (gun_data[\"Gender\"] == \"Female\") & (gun_data[\"Age\"] == \"None selected\") & (gun_data[\"Race\"] == \"None selected\")][\"Deaths\"])\n",
    "\n",
    "print(\"Women among homicide victims:\", np.round(homicides_females / homicides, 4)*100, \"%\")"
   ],
   "metadata": {
    "collapsed": false,
    "pycharm": {
     "name": "#%%\n"
    }
   }
  }
 ],
 "metadata": {
  "kernelspec": {
   "display_name": "Python 3",
   "language": "python",
   "name": "python3"
  },
  "language_info": {
   "codemirror_mode": {
    "name": "ipython",
    "version": 2
   },
   "file_extension": ".py",
   "mimetype": "text/x-python",
   "name": "python",
   "nbconvert_exporter": "python",
   "pygments_lexer": "ipython2",
   "version": "2.7.6"
  }
 },
 "nbformat": 4,
 "nbformat_minor": 0
}